{
 "cells": [
  {
   "cell_type": "markdown",
   "metadata": {},
   "source": [
    "This notebooks provides an example on how to train a MOFA+ model in Python. \n",
    "\n",
    "[PBMC10K](https://support.10xgenomics.com/single-cell-gene-expression/datasets) dataset is used as an example, which might be familiar to some of the users of Seurat or scanpy. It is a 3' single-cell RNA sequencing data so only one layer of information (view) is available, that is gene expression."
   ]
  },
  {
   "cell_type": "code",
   "execution_count": 1,
   "metadata": {},
   "outputs": [],
   "source": [
    "import os\n",
    "os.chdir(\"../\")"
   ]
  },
  {
   "cell_type": "code",
   "execution_count": 2,
   "metadata": {},
   "outputs": [],
   "source": [
    "import pandas as pd\n",
    "import numpy as np\n",
    "import scanpy as sc"
   ]
  },
  {
   "cell_type": "markdown",
   "metadata": {},
   "source": [
    "# Load data"
   ]
  },
  {
   "cell_type": "markdown",
   "metadata": {},
   "source": [
    "Load processed data:"
   ]
  },
  {
   "cell_type": "code",
   "execution_count": 3,
   "metadata": {},
   "outputs": [],
   "source": [
    "adata = sc.read(\"data/pbmc10k.h5ad\")"
   ]
  },
  {
   "cell_type": "code",
   "execution_count": 4,
   "metadata": {},
   "outputs": [],
   "source": [
    "adata = adata[:,adata.var.highly_variable].copy()"
   ]
  },
  {
   "cell_type": "markdown",
   "metadata": {},
   "source": [
    "# Run training"
   ]
  },
  {
   "cell_type": "markdown",
   "metadata": {},
   "source": [
    "To run MOFA+ training on the AnnData object, one can import and call `mofa` function:"
   ]
  },
  {
   "cell_type": "code",
   "execution_count": 5,
   "metadata": {},
   "outputs": [],
   "source": [
    "from mofapy2.run.entry_point import mofa"
   ]
  },
  {
   "cell_type": "code",
   "execution_count": 12,
   "metadata": {},
   "outputs": [
    {
     "name": "stdout",
     "output_type": "stream",
     "text": [
      "\n",
      "        #########################################################\n",
      "        ###           __  __  ____  ______                    ### \n",
      "        ###          |  \\/  |/ __ \\|  ____/\\    _             ### \n",
      "        ###          | \\  / | |  | | |__ /  \\ _| |_           ### \n",
      "        ###          | |\\/| | |  | |  __/ /\\ \\_   _|          ###\n",
      "        ###          | |  | | |__| | | / ____ \\|_|            ###\n",
      "        ###          |_|  |_|\\____/|_|/_/    \\_\\              ###\n",
      "        ###                                                   ### \n",
      "        ######################################################### \n",
      "       \n",
      " \n",
      "        \n",
      "Loaded view='rna' group='group1' with N=10575 samples and D=2071 features...\n",
      "\n",
      "\n",
      "Model options:\n",
      "- Automatic Relevance Determination prior on the factors: True\n",
      "- Automatic Relevance Determination prior on the weights: True\n",
      "- Spike-and-slab prior on the factors: False\n",
      "- Spike-and-slab prior on the weights: True \n",
      "\n",
      "Likelihoods:\n",
      "- View 0 (rna): gaussian\n",
      "\n",
      "\n",
      "######################################\n",
      "## Training the model with seed 1 ##\n",
      "######################################\n",
      "\n",
      "\n",
      "ELBO before training: -163511769.69 \n",
      "\n",
      "Iteration 1: time=7.25, ELBO=20362.56, deltaELBO=163532132.253 (100.01245327%), Factors=10\n",
      "Iteration 2: time=6.47, ELBO=956509.18, deltaELBO=936146.615 (0.57252552%), Factors=10\n",
      "Iteration 3: time=5.80, ELBO=1050646.98, deltaELBO=94137.805 (0.05757249%), Factors=10\n",
      "Iteration 4: time=5.75, ELBO=1144511.56, deltaELBO=93864.584 (0.05740540%), Factors=10\n",
      "Iteration 5: time=5.86, ELBO=1200690.77, deltaELBO=56179.201 (0.03435789%), Factors=10\n",
      "Iteration 6: time=5.93, ELBO=1213139.60, deltaELBO=12448.832 (0.00761342%), Factors=10\n",
      "Iteration 7: time=6.20, ELBO=1229442.58, deltaELBO=16302.987 (0.00997053%), Factors=10\n",
      "Iteration 8: time=6.01, ELBO=1235099.84, deltaELBO=5657.255 (0.00345985%), Factors=10\n",
      "Iteration 9: time=5.98, ELBO=1237125.65, deltaELBO=2025.812 (0.00123894%), Factors=10\n",
      "Iteration 10: time=5.86, ELBO=1238796.59, deltaELBO=1670.943 (0.00102191%), Factors=10\n",
      "Iteration 11: time=5.78, ELBO=1240378.02, deltaELBO=1581.425 (0.00096716%), Factors=10\n",
      "Iteration 12: time=5.81, ELBO=1241934.89, deltaELBO=1556.871 (0.00095215%), Factors=10\n",
      "Iteration 13: time=5.88, ELBO=1243530.75, deltaELBO=1595.856 (0.00097599%), Factors=10\n",
      "Iteration 14: time=5.49, ELBO=1245115.92, deltaELBO=1585.172 (0.00096945%), Factors=10\n",
      "Iteration 15: time=5.60, ELBO=1246632.16, deltaELBO=1516.246 (0.00092730%), Factors=10\n",
      "Iteration 16: time=5.63, ELBO=1248062.78, deltaELBO=1430.612 (0.00087493%), Factors=10\n",
      "Iteration 17: time=6.96, ELBO=1249384.48, deltaELBO=1321.702 (0.00080832%), Factors=10\n",
      "Iteration 18: time=6.49, ELBO=1250598.78, deltaELBO=1214.300 (0.00074264%), Factors=10\n",
      "Iteration 19: time=6.49, ELBO=1251741.16, deltaELBO=1142.383 (0.00069865%), Factors=10\n",
      "Iteration 20: time=6.44, ELBO=1252801.24, deltaELBO=1060.078 (0.00064832%), Factors=10\n",
      "Iteration 21: time=5.82, ELBO=1253742.66, deltaELBO=941.420 (0.00057575%), Factors=10\n",
      "Iteration 22: time=5.82, ELBO=1254591.49, deltaELBO=848.835 (0.00051913%), Factors=10\n",
      "Iteration 23: time=5.77, ELBO=1255378.37, deltaELBO=786.877 (0.00048124%), Factors=10\n",
      "Iteration 24: time=5.82, ELBO=1256102.34, deltaELBO=723.969 (0.00044276%), Factors=10\n",
      "Iteration 25: time=5.95, ELBO=1256758.73, deltaELBO=656.386 (0.00040143%), Factors=10\n",
      "Iteration 26: time=6.02, ELBO=1257351.57, deltaELBO=592.840 (0.00036257%), Factors=10\n",
      "Iteration 27: time=6.23, ELBO=1257891.05, deltaELBO=539.482 (0.00032993%), Factors=10\n",
      "Iteration 28: time=6.01, ELBO=1258396.40, deltaELBO=505.355 (0.00030906%), Factors=10\n",
      "Iteration 29: time=6.10, ELBO=1258889.38, deltaELBO=492.977 (0.00030149%), Factors=10\n",
      "Iteration 30: time=6.02, ELBO=1259391.47, deltaELBO=502.087 (0.00030706%), Factors=10\n",
      "Iteration 31: time=6.46, ELBO=1259910.68, deltaELBO=519.214 (0.00031754%), Factors=10\n",
      "Iteration 32: time=5.99, ELBO=1260444.43, deltaELBO=533.749 (0.00032643%), Factors=10\n",
      "Iteration 33: time=5.85, ELBO=1260992.72, deltaELBO=548.288 (0.00033532%), Factors=10\n",
      "Iteration 34: time=6.50, ELBO=1261545.36, deltaELBO=552.642 (0.00033798%), Factors=10\n",
      "Iteration 35: time=6.53, ELBO=1262084.41, deltaELBO=539.052 (0.00032967%), Factors=10\n",
      "Iteration 36: time=6.08, ELBO=1262581.50, deltaELBO=497.091 (0.00030401%), Factors=10\n",
      "Iteration 37: time=6.16, ELBO=1263008.35, deltaELBO=426.845 (0.00026105%), Factors=10\n",
      "Iteration 38: time=6.03, ELBO=1263359.86, deltaELBO=351.514 (0.00021498%), Factors=10\n",
      "Iteration 39: time=6.00, ELBO=1263643.71, deltaELBO=283.847 (0.00017359%), Factors=10\n",
      "Iteration 40: time=6.01, ELBO=1263865.04, deltaELBO=221.331 (0.00013536%), Factors=10\n",
      "Iteration 41: time=5.85, ELBO=1264034.65, deltaELBO=169.615 (0.00010373%), Factors=10\n",
      "Iteration 42: time=7.11, ELBO=1264159.28, deltaELBO=124.629 (0.00007622%), Factors=10\n",
      "Iteration 43: time=5.91, ELBO=1264251.11, deltaELBO=91.827 (0.00005616%), Factors=10\n",
      "Iteration 44: time=5.93, ELBO=1264322.61, deltaELBO=71.497 (0.00004373%), Factors=10\n",
      "Iteration 45: time=6.09, ELBO=1264379.20, deltaELBO=56.591 (0.00003461%), Factors=10\n",
      "\n",
      "Converged!\n",
      "\n",
      "\n",
      "\n",
      "#######################\n",
      "## Training finished ##\n",
      "#######################\n",
      "\n",
      "\n",
      "Saving model in data/models/pbmc10k_nogroup_expectations.hdf5...\n",
      "\n",
      "Saved MOFA embeddings in adata.obsm['X_mofa'] slot and their loadings in adata.varm['LFs'].\n"
     ]
    }
   ],
   "source": [
    "m = mofa(adata, \n",
    "         expectations=[\"W\",\"Z\",\"AlphaW\",\"AlphaZ\"],\n",
    "         use_raw=True,\n",
    "         n_factors=10,\n",
    "#          groups_label=\"celltype\", \n",
    "         outfile=\"data/models/pbmc10k_nogroup_expectations.hdf5\", quiet=False)"
   ]
  },
  {
   "cell_type": "code",
   "execution_count": 13,
   "metadata": {},
   "outputs": [
    {
     "name": "stdout",
     "output_type": "stream",
     "text": [
      "<HDF5 dataset \"group1\": shape (2071,), type \"<f4\">\n"
     ]
    }
   ],
   "source": [
    "import h5py\n",
    "f = h5py.File(\"data/models/pbmc10k_nogroup_expectations.hdf5\")\n",
    "print(f['intercepts/rna/group1'])\n",
    "f.close()"
   ]
  },
  {
   "cell_type": "markdown",
   "metadata": {},
   "source": [
    "# Check the model file"
   ]
  },
  {
   "cell_type": "markdown",
   "metadata": {},
   "source": [
    "With mofax, one can connect to the trained model and, for instance, check the dimensions of the data."
   ]
  },
  {
   "cell_type": "code",
   "execution_count": null,
   "metadata": {
    "scrolled": true
   },
   "outputs": [],
   "source": [
    "import mofax as mfx\n",
    "m = mfx.mofa_model(\"data/models/pbmc10k_nogroup.hdf5\")"
   ]
  },
  {
   "cell_type": "code",
   "execution_count": null,
   "metadata": {},
   "outputs": [],
   "source": [
    "print(f\"\"\"\\\n",
    "Cells: {m.shape[0]}\n",
    "Features: {m.shape[1]}\n",
    "Groups of cells: {', '.join(m.groups)}\n",
    "Views: {', '.join(m.views)}\n",
    "\"\"\")"
   ]
  },
  {
   "cell_type": "markdown",
   "metadata": {},
   "source": [
    "For mofax usage, please see the [getting started notebook](https://github.com/gtca/mofax/blob/master/notebooks/getting_started_pbmc10k.ipynb)."
   ]
  }
 ],
 "metadata": {
  "kernelspec": {
   "display_name": "Python 3",
   "language": "python",
   "name": "python3"
  },
  "language_info": {
   "codemirror_mode": {
    "name": "ipython",
    "version": 3
   },
   "file_extension": ".py",
   "mimetype": "text/x-python",
   "name": "python",
   "nbconvert_exporter": "python",
   "pygments_lexer": "ipython3",
   "version": "3.7.5"
  },
  "toc": {
   "base_numbering": 1,
   "nav_menu": {},
   "number_sections": true,
   "sideBar": true,
   "skip_h1_title": false,
   "title_cell": "Table of Contents",
   "title_sidebar": "Contents",
   "toc_cell": false,
   "toc_position": {},
   "toc_section_display": true,
   "toc_window_display": false
  }
 },
 "nbformat": 4,
 "nbformat_minor": 4
}
