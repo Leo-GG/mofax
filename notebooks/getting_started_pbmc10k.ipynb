{
 "cells": [
  {
   "cell_type": "markdown",
   "metadata": {},
   "source": [
    "This notebooks provides an example downstream analysis of a trained MOFA+ model in Python. \n",
    "\n",
    "[PBMC10K](https://support.10xgenomics.com/single-cell-gene-expression/datasets) dataset is used as an example, which might be familiar to some of the users of Seurat or scanpy. It is a 3' single-cell RNA sequencing data so only one layer of information (view) is available, that is gene expression.\n",
    "\n",
    "For this tutorial, only a trained PBMC10k model is needed, and it can be downloaded [here](https://github.com/gtca/mpp/tree/master/data/models/pbmc10k.hdf5)."
   ]
  },
  {
   "cell_type": "code",
   "execution_count": 1,
   "metadata": {},
   "outputs": [],
   "source": [
    "# Set root folder as a working directory\n",
    "import os\n",
    "os.chdir(\"../\")"
   ]
  },
  {
   "cell_type": "code",
   "execution_count": 2,
   "metadata": {},
   "outputs": [],
   "source": [
    "import pandas as pd\n",
    "import numpy as np\n",
    "import seaborn as sns\n",
    "import matplotlib.pyplot as plt"
   ]
  },
  {
   "cell_type": "code",
   "execution_count": 3,
   "metadata": {},
   "outputs": [],
   "source": [
    "from matplotlib import rcParams\n",
    "rcParams['figure.dpi'] = 200"
   ]
  },
  {
   "cell_type": "markdown",
   "metadata": {},
   "source": [
    "# Connect to the model"
   ]
  },
  {
   "cell_type": "code",
   "execution_count": 4,
   "metadata": {},
   "outputs": [],
   "source": [
    "import mpp\n",
    "m = mpp.mofa_model(\"data/models/pbmc10k.hdf5\")"
   ]
  },
  {
   "cell_type": "markdown",
   "metadata": {},
   "source": [
    "This creates a connection to an HDF5 file. According to best practices, it should be closed when the access is not needed anymore by calling `m.close()`."
   ]
  },
  {
   "cell_type": "markdown",
   "metadata": {},
   "source": [
    "## Basic model features"
   ]
  },
  {
   "cell_type": "markdown",
   "metadata": {},
   "source": [
    "We can quickly check the overall dimensions of the model:"
   ]
  },
  {
   "cell_type": "code",
   "execution_count": 5,
   "metadata": {},
   "outputs": [
    {
     "name": "stdout",
     "output_type": "stream",
     "text": [
      "Cells: 10636\n",
      "Features: 1921\n",
      "Groups of cells: 0, 1, 2, 3, 4, 5\n",
      "Views: rna\n",
      "\n"
     ]
    }
   ],
   "source": [
    "print(f\"\"\"\\\n",
    "Cells: {m.shape[0]}\n",
    "Features: {m.shape[1]}\n",
    "Groups of cells: {', '.join(m.groups)}\n",
    "Views: {', '.join(m.views)}\n",
    "\"\"\")"
   ]
  },
  {
   "cell_type": "markdown",
   "metadata": {},
   "source": [
    "The core part of the trained model are 2 matrices: Z (factors) and W (weights, or loadings) matrices. The expectations for Z or W are easily accessible in different formats:"
   ]
  },
  {
   "cell_type": "code",
   "execution_count": 6,
   "metadata": {},
   "outputs": [
    {
     "name": "stdout",
     "output_type": "stream",
     "text": [
      "HDF5 group:\n",
      " <HDF5 group \"/expectations/W\" (1 members)>\n",
      "\n",
      "np.ndarray:\n",
      " [[ 6.67683589e-03  1.74740592e-03  5.62395311e-04  1.28811446e-03\n",
      "  -1.71834763e-04]\n",
      " [ 1.71035753e+00 -2.06513377e+00  6.00713378e+00  9.03268548e-03\n",
      "   1.17228368e-01]\n",
      " [ 2.52907104e+00 -1.53323801e+00  1.94592505e+00  3.07668137e+00\n",
      "   1.54433896e+00]]\n",
      "\n",
      "pd.DataFrame:\n",
      "          Factor1   Factor2   Factor3   Factor4   Factor5\n",
      "KLHL17  0.006677  0.001747  0.000562  0.001288 -0.000172\n",
      "HES4    1.710358 -2.065134  6.007134  0.009033  0.117228\n",
      "ISG15   2.529071 -1.533238  1.945925  3.076681  1.544339\n"
     ]
    }
   ],
   "source": [
    "# HDF5 group\n",
    "print(\"HDF5 group:\\n\", m.weights)\n",
    "\n",
    "# np.ndarray\n",
    "print(\"\\nnp.ndarray:\\n\", m.get_weights()[:3,:5])\n",
    "\n",
    "# pd.DataFrame\n",
    "print(\"\\npd.DataFrame:\\n\", m.get_weights(df=True).iloc[:3,:5])"
   ]
  },
  {
   "cell_type": "markdown",
   "metadata": {},
   "source": [
    "Same works for factors: try executing `m.factors`, `m.get_factors()`, and `m.get_factors(df=True)`."
   ]
  }
 ],
 "metadata": {
  "kernelspec": {
   "display_name": "Python 3",
   "language": "python",
   "name": "python3"
  },
  "language_info": {
   "codemirror_mode": {
    "name": "ipython",
    "version": 3
   },
   "file_extension": ".py",
   "mimetype": "text/x-python",
   "name": "python",
   "nbconvert_exporter": "python",
   "pygments_lexer": "ipython3",
   "version": "3.7.5"
  },
  "toc": {
   "base_numbering": 1,
   "nav_menu": {},
   "number_sections": true,
   "sideBar": true,
   "skip_h1_title": false,
   "title_cell": "Table of Contents",
   "title_sidebar": "Contents",
   "toc_cell": false,
   "toc_position": {},
   "toc_section_display": true,
   "toc_window_display": false
  }
 },
 "nbformat": 4,
 "nbformat_minor": 2
}
